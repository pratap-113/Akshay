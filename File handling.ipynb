{
 "cells": [
  {
   "cell_type": "code",
   "execution_count": 15,
   "id": "1fb5477b-3673-4c23-93da-0b294f976014",
   "metadata": {},
   "outputs": [],
   "source": [
    "f=open(r'C:\\python\\abc.txt','w')\n",
    "f.write('hello all!\\n')\n",
    "f.write('vjfyugkj\\n')\n",
    "f.close()"
   ]
  },
  {
   "cell_type": "code",
   "execution_count": 19,
   "id": "803d3bfd-7152-45eb-9f35-fca99c4b53fb",
   "metadata": {},
   "outputs": [
    {
     "name": "stdout",
     "output_type": "stream",
     "text": [
      "hello all!\n",
      "vjfyugkj\n",
      "\n",
      "20\n"
     ]
    }
   ],
   "source": [
    "f=open(r'C:\\python\\abc.txt','r')\n",
    "s=f.read()\n",
    "print(s)\n",
    "n=len(s)\n",
    "\n",
    "print(n)"
   ]
  },
  {
   "cell_type": "code",
   "execution_count": null,
   "id": "6e6b62a6-67e6-49f5-b094-bfeb9a86fcc5",
   "metadata": {},
   "outputs": [
    {
     "name": "stdout",
     "output_type": "stream",
     "text": [
      "enter the next untill . is used\n"
     ]
    },
    {
     "name": "stdin",
     "output_type": "stream",
     "text": [
      " gbdjysrdfdhmfdtyd\n",
      " \n",
      " \n",
      " gghdhd\n",
      " dgdg\n",
      " dg\n",
      " jdgj.\n",
      " daj..\n",
      " \n"
     ]
    }
   ],
   "source": [
    "f=open(r'C:\\python\\abc.txt','a')\n",
    "print('enter the next untill . is used')\n",
    "while str!='.':\n",
    "    str=input()\n",
    "    if str!='.':\n",
    "        f.write(str+'\\n')\n",
    "f.close()"
   ]
  },
  {
   "cell_type": "code",
   "execution_count": null,
   "id": "6f65caaa-d4c2-4202-8d29-bd521fa2b33f",
   "metadata": {},
   "outputs": [],
   "source": []
  }
 ],
 "metadata": {
  "kernelspec": {
   "display_name": "Python 3 (ipykernel)",
   "language": "python",
   "name": "python3"
  },
  "language_info": {
   "codemirror_mode": {
    "name": "ipython",
    "version": 3
   },
   "file_extension": ".py",
   "mimetype": "text/x-python",
   "name": "python",
   "nbconvert_exporter": "python",
   "pygments_lexer": "ipython3",
   "version": "3.12.4"
  }
 },
 "nbformat": 4,
 "nbformat_minor": 5
}
