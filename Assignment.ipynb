{
 "cells": [
  {
   "cell_type": "code",
   "execution_count": 11,
   "id": "1d603626-01a2-46f5-8358-8082d94f0924",
   "metadata": {},
   "outputs": [
    {
     "name": "stdout",
     "output_type": "stream",
     "text": [
      "area of circle is: 200.96\n",
      "perimeter of circle is: 50.24\n"
     ]
    }
   ],
   "source": [
    "#(1)\n",
    "class circle():\n",
    "    def __init__(self,r):\n",
    "        self.r=8\n",
    "    print('area of circle is:',3.14*(8**2))\n",
    "    print('perimeter of circle is:',2*3.14*8)"
   ]
  },
  {
   "cell_type": "code",
   "execution_count": 13,
   "id": "a37c70ce-0437-4b51-9706-6aafb872f983",
   "metadata": {},
   "outputs": [],
   "source": [
    "#(2)\n",
    "class person():\n",
    "    def __init__(self,name,country,dob):\n",
    "        self.name=name\n",
    "        self.country=country\n",
    "        self.dob=dob\n",
    "    def age(self):\n",
    "        return 2024-self.dob\n",
    "        \n",
    "     "
   ]
  },
  {
   "cell_type": "code",
   "execution_count": 15,
   "id": "709f1c72-d92b-4139-800d-d8109a1cf2b0",
   "metadata": {},
   "outputs": [],
   "source": [
    "p=person('aks','country',1989)"
   ]
  },
  {
   "cell_type": "code",
   "execution_count": 17,
   "id": "80c0db48-ae4e-4648-b3f5-71b58ffba916",
   "metadata": {},
   "outputs": [
    {
     "data": {
      "text/plain": [
       "1989"
      ]
     },
     "execution_count": 17,
     "metadata": {},
     "output_type": "execute_result"
    }
   ],
   "source": [
    "p.dob"
   ]
  },
  {
   "cell_type": "code",
   "execution_count": 23,
   "id": "345fedf3-3009-4fe4-86c0-68c851daddef",
   "metadata": {},
   "outputs": [
    {
     "name": "stdin",
     "output_type": "stream",
     "text": [
      "choose any one operator +, -, *, /, *\n",
      "Enter no.1: 5\n",
      "Enter no.2: 10\n"
     ]
    },
    {
     "name": "stdout",
     "output_type": "stream",
     "text": [
      "50\n"
     ]
    }
   ],
   "source": [
    "#(3)\n",
    "def add(num1,num2):\n",
    "    result=num1+num2\n",
    "    print(result)\n",
    "    \n",
    "def sub(num1,num2):\n",
    "    result=num1-num2\n",
    "    print(result)\n",
    "    \n",
    "def mult(num1,num2):\n",
    "    result=num1*num2\n",
    "    print(result)\n",
    "    \n",
    "def div(num1,num2):\n",
    "    result=num1/num2\n",
    "    print(result)\n",
    "\n",
    "choice=input('choose any one operator +, -, *, /,')\n",
    "firstnum=int(input('Enter no.1:'))\n",
    "secondnum=int(input('Enter no.2:'))\n",
    "if choice=='+':\n",
    "    add(firstnum,secondnum)\n",
    "if choice=='-':\n",
    "    sub(firstnum,secondnum)\n",
    "if choice=='*':\n",
    "    mult(firstnum,secondnum)\n",
    "if choice=='/':\n",
    "    div(firstnum,secondnum)"
   ]
  },
  {
   "cell_type": "code",
   "execution_count": 1,
   "id": "45f9170a-5172-4075-a772-955387bd1ded",
   "metadata": {},
   "outputs": [],
   "source": [
    "#(4)\n",
    "class stack():\n",
    "    def __init__(self):\n",
    "        self.item=[]\n",
    "\n",
    "    def push(self,item):\n",
    "        self.item.append(item)\n",
    "        print(self.item)\n",
    "\n",
    "    def pop(self):\n",
    "        self.item.pop()\n",
    "        return self.item"
   ]
  },
  {
   "cell_type": "code",
   "execution_count": 3,
   "id": "946838b5-8c73-4a58-8a2d-9e30f1d5afbe",
   "metadata": {},
   "outputs": [],
   "source": [
    "s=stack()"
   ]
  },
  {
   "cell_type": "code",
   "execution_count": 5,
   "id": "d9e5d9f3-add0-4e6a-8195-2b25cc3f3470",
   "metadata": {},
   "outputs": [
    {
     "name": "stdout",
     "output_type": "stream",
     "text": [
      "[[1, 2, 3, 4, 5, 6, 7, 8]]\n"
     ]
    }
   ],
   "source": [
    "s.push([1,2,3,4,5,6,7,8])"
   ]
  },
  {
   "cell_type": "code",
   "execution_count": 7,
   "id": "87fe6373-94a0-4560-9ded-886567bebfcd",
   "metadata": {},
   "outputs": [
    {
     "data": {
      "text/plain": [
       "[]"
      ]
     },
     "execution_count": 7,
     "metadata": {},
     "output_type": "execute_result"
    }
   ],
   "source": [
    "s.pop()"
   ]
  },
  {
   "cell_type": "code",
   "execution_count": 9,
   "id": "30f1acee-9f72-46d0-918a-4019576d219f",
   "metadata": {},
   "outputs": [
    {
     "name": "stdout",
     "output_type": "stream",
     "text": [
      "[[25, 40]]\n"
     ]
    }
   ],
   "source": [
    "s.push([25,40])"
   ]
  },
  {
   "cell_type": "code",
   "execution_count": 11,
   "id": "b6411fdd-2e37-4068-91e6-ec4b3cda5b0e",
   "metadata": {},
   "outputs": [
    {
     "name": "stdout",
     "output_type": "stream",
     "text": [
      "[[25, 40], [25, 4, 5, 6, 9]]\n"
     ]
    }
   ],
   "source": [
    "s.push([25,4,5,6,9])"
   ]
  },
  {
   "cell_type": "code",
   "execution_count": 13,
   "id": "8ede2bea-6506-42a9-9046-ad296058c0c2",
   "metadata": {},
   "outputs": [
    {
     "data": {
      "text/plain": [
       "[[25, 40]]"
      ]
     },
     "execution_count": 13,
     "metadata": {},
     "output_type": "execute_result"
    }
   ],
   "source": [
    "s.pop()"
   ]
  },
  {
   "cell_type": "code",
   "execution_count": 15,
   "id": "2818a95d-511d-4e9f-a574-46dcdbc9126b",
   "metadata": {},
   "outputs": [],
   "source": [
    "#(5)\n",
    "class ShoppingCart:\n",
    "    def __init__(self):\n",
    "        self.items = {}\n",
    "\n",
    "    def add_item(self, item, price):\n",
    "        self.items[item] = price\n",
    "\n",
    "    def remove_item(self, item):\n",
    "        if item in self.items:\n",
    "            del self.items[item]\n",
    "\n",
    "    def calculate_total_price(self):\n",
    "        total_price = sum(self.items.values())\n",
    "        return total_price"
   ]
  },
  {
   "cell_type": "code",
   "execution_count": 17,
   "id": "8cdd2d1e-8bee-47f8-a9f1-58a44eb84b65",
   "metadata": {},
   "outputs": [],
   "source": [
    "d=ShoppingCart()"
   ]
  },
  {
   "cell_type": "code",
   "execution_count": 19,
   "id": "bd745f6e-c3d2-4f1a-82ed-08cea8f988d9",
   "metadata": {},
   "outputs": [],
   "source": [
    "d.add_item('apple',10)"
   ]
  },
  {
   "cell_type": "code",
   "execution_count": 21,
   "id": "0f58e116-cb53-45da-bda7-1d48c96c4675",
   "metadata": {},
   "outputs": [
    {
     "data": {
      "text/plain": [
       "10"
      ]
     },
     "execution_count": 21,
     "metadata": {},
     "output_type": "execute_result"
    }
   ],
   "source": [
    "d. calculate_total_price()"
   ]
  },
  {
   "cell_type": "code",
   "execution_count": null,
   "id": "82d103d8-5664-4410-9b32-310a7123a7e6",
   "metadata": {},
   "outputs": [],
   "source": []
  }
 ],
 "metadata": {
  "kernelspec": {
   "display_name": "Python 3 (ipykernel)",
   "language": "python",
   "name": "python3"
  },
  "language_info": {
   "codemirror_mode": {
    "name": "ipython",
    "version": 3
   },
   "file_extension": ".py",
   "mimetype": "text/x-python",
   "name": "python",
   "nbconvert_exporter": "python",
   "pygments_lexer": "ipython3",
   "version": "3.12.4"
  }
 },
 "nbformat": 4,
 "nbformat_minor": 5
}
